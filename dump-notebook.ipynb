{
 "cells": [
  {
   "cell_type": "markdown",
   "metadata": {},
   "source": [
    "#### 3a. Single Predictor (Linear Regression) using OLS"
   ]
  },
  {
   "cell_type": "markdown",
   "metadata": {},
   "source": [
    "**Find the association between TotalCharges and Tenure**"
   ]
  },
  {
   "cell_type": "markdown",
   "metadata": {},
   "source": [
    "$$y = β0 + β1X$$"
   ]
  },
  {
   "cell_type": "markdown",
   "metadata": {},
   "source": [
    "Tenure as the output and TotalCharges as the Input\n",
    "\n",
    "$$TotalCharges = β0 + β1Tenure$$"
   ]
  },
  {
   "cell_type": "markdown",
   "metadata": {},
   "source": [
    "##### 3.a.1. Plot the Values"
   ]
  },
  {
   "cell_type": "code",
   "execution_count": null,
   "metadata": {},
   "outputs": [],
   "source": [
    "# r = scipy.stats.pearsonr(x=df['TotalCharges'], y=df['Tenure'])[0]\n",
    "\n",
    "# # sns.regplot(x='TotalCharges', y='Tenure', data=df)\n",
    "\n",
    "# plt.scatter(x=df['Tenure'], y=df['TotalCharges'])\n",
    "\n",
    "# plt.xlabel('Tenure (in Months)')\n",
    "# plt.ylabel('Total Charges')\n",
    "\n",
    "# plt.text(4,10, 'r = ' + str(round(r, 4)), fontsize=15)\n",
    "\n",
    "# plt.show()"
   ]
  },
  {
   "cell_type": "markdown",
   "metadata": {},
   "source": [
    "1. Cari tau kenapa ada total charges yang dikit tapi tenurenya tinggi\n",
    "2. Cari tau kenapa ada gap (variance) di datanya (putih kosong gtu di bawah)\n",
    "\n",
    "Dua hal itu yang menyebabkan model scorenya rendah"
   ]
  },
  {
   "cell_type": "code",
   "execution_count": null,
   "metadata": {},
   "outputs": [
    {
     "data": {
      "text/plain": [
       "array(['Month-to-Month', 'One-Year', 'Two-Year'], dtype=object)"
      ]
     },
     "metadata": {},
     "output_type": "display_data"
    }
   ],
   "source": [
    "df['ContractType'].unique()"
   ]
  },
  {
   "cell_type": "code",
   "execution_count": null,
   "metadata": {},
   "outputs": [],
   "source": [
    "# df[['InternetService', 'ContractType', 'TotalCharges']]\n",
    "\n",
    "# filtered_df = df[ (df['TotalCharges'] >= 20) & (df['TotalCharges'] <= 30) ]\n",
    "# filtered_df.groupby(['InternetService', 'ContractType'])['TotalCharges'].count()"
   ]
  },
  {
   "cell_type": "markdown",
   "metadata": {},
   "source": [
    "##### 3.a.2. Split the Values into Train and Test"
   ]
  },
  {
   "cell_type": "code",
   "execution_count": null,
   "metadata": {},
   "outputs": [],
   "source": [
    "# from sklearn.model_selection import train_test_split\n",
    "\n",
    "# X = df['Tenure']\n",
    "# y = df['TotalCharges']\n",
    "\n",
    "# X_train, X_test, y_train, y_test = train_test_split(X,y, test_size = 0.2, random_state=42) #split the data into 80/20 (80 for train, 20 for test)"
   ]
  },
  {
   "cell_type": "markdown",
   "metadata": {},
   "source": [
    "Check the training values"
   ]
  },
  {
   "cell_type": "code",
   "execution_count": null,
   "metadata": {},
   "outputs": [],
   "source": [
    "# X_train"
   ]
  },
  {
   "cell_type": "code",
   "execution_count": null,
   "metadata": {},
   "outputs": [],
   "source": [
    "# y_train"
   ]
  },
  {
   "cell_type": "markdown",
   "metadata": {},
   "source": [
    "##### 3.a.3. Reshape the Data"
   ]
  },
  {
   "cell_type": "code",
   "execution_count": null,
   "metadata": {},
   "outputs": [],
   "source": [
    "# X_train = np.array(X_train).reshape(-1, 1)\n",
    "# X_train"
   ]
  },
  {
   "cell_type": "code",
   "execution_count": null,
   "metadata": {},
   "outputs": [],
   "source": [
    "# X_test = np.array(X_test).reshape(-1, 1)\n",
    "# X_test"
   ]
  },
  {
   "cell_type": "markdown",
   "metadata": {},
   "source": [
    "##### 3.a.4. Import Regression Model from scikit"
   ]
  },
  {
   "cell_type": "code",
   "execution_count": null,
   "metadata": {},
   "outputs": [],
   "source": [
    "# from sklearn.linear_model import LinearRegression\n",
    "\n",
    "# lr = LinearRegression()"
   ]
  },
  {
   "cell_type": "markdown",
   "metadata": {},
   "source": [
    "##### 3.a.5. Fit Training Values Into The Model"
   ]
  },
  {
   "cell_type": "code",
   "execution_count": null,
   "metadata": {},
   "outputs": [],
   "source": [
    "# lr.fit(X_train, y_train)"
   ]
  },
  {
   "cell_type": "code",
   "execution_count": null,
   "metadata": {},
   "outputs": [],
   "source": [
    "# intercept = lr.intercept_ #slope\n",
    "# coefficient = lr.coef_ #beta-1\n",
    "\n",
    "# print(f'Intercept: {intercept} \\nCoefficient: {coefficient}')"
   ]
  },
  {
   "cell_type": "code",
   "execution_count": null,
   "metadata": {},
   "outputs": [],
   "source": [
    "# print(lr.score(X_test, y_test))"
   ]
  },
  {
   "cell_type": "markdown",
   "metadata": {},
   "source": [
    "Model score:\n",
    "- No transformation: 56%\n",
    "- Log Transform: 48%\n",
    "- Square Root: 42%\n",
    "- Cube Root: 42%"
   ]
  },
  {
   "cell_type": "markdown",
   "metadata": {},
   "source": [
    "##### 3.a.6. Coefficient Interpretation"
   ]
  },
  {
   "cell_type": "markdown",
   "metadata": {},
   "source": [
    "$$TotalCharges =  136 + 58Tenure$$"
   ]
  },
  {
   "cell_type": "markdown",
   "metadata": {},
   "source": [
    "For every increase in tenure (say 1 month), the average total charges will increase by $58"
   ]
  },
  {
   "cell_type": "markdown",
   "metadata": {},
   "source": [
    "##### 3.a.7. Predict The Values"
   ]
  },
  {
   "cell_type": "code",
   "execution_count": null,
   "metadata": {},
   "outputs": [],
   "source": [
    "# #using training values\n",
    "# y_predict_train1 = lr.predict(X_train)\n",
    "# y_predict_train1.flatten()"
   ]
  },
  {
   "cell_type": "code",
   "execution_count": null,
   "metadata": {},
   "outputs": [],
   "source": [
    "#using testing values\n",
    "# y_predict_test1 = lr.predict(X_test)\n",
    "# y_predict_test1.flatten()"
   ]
  },
  {
   "cell_type": "markdown",
   "metadata": {},
   "source": [
    "##### 3.a.8. Fit A Line Into The Plot"
   ]
  },
  {
   "cell_type": "markdown",
   "metadata": {},
   "source": [
    "X_test and y_test"
   ]
  },
  {
   "cell_type": "code",
   "execution_count": null,
   "metadata": {},
   "outputs": [],
   "source": [
    "# plt.scatter(x=X_test, y=y_test)\n",
    "# plt.plot(X_test, y_predict_test1, color='red')\n",
    "\n",
    "# plt.xlabel('Tenure in Months')\n",
    "# plt.ylabel('Total Charges')\n",
    "# plt.title('Test Data')\n",
    "\n",
    "# plt.show()"
   ]
  },
  {
   "cell_type": "markdown",
   "metadata": {},
   "source": [
    "Evaluate Model Test"
   ]
  },
  {
   "cell_type": "code",
   "execution_count": null,
   "metadata": {},
   "outputs": [],
   "source": [
    "# from sklearn.metrics import mean_absolute_error,mean_squared_error \n",
    "  \n",
    "# mae = mean_absolute_error(y_true=y_test,y_pred=y_predict_test1) \n",
    "# #squared True returns MSE value, False returns RMSE value. \n",
    "# mse = mean_squared_error(y_true=y_test,y_pred=y_predict_test1) #default=True \n",
    "# rmse = mean_squared_error(y_true=y_test,y_pred=y_predict_test1,squared=False) \n",
    "  \n",
    "# print(\"MAE:\",mae) \n",
    "# print(\"MSE:\",mse) \n",
    "# print(\"RMSE:\",rmse)"
   ]
  }
 ],
 "metadata": {
  "language_info": {
   "name": "python"
  }
 },
 "nbformat": 4,
 "nbformat_minor": 2
}
